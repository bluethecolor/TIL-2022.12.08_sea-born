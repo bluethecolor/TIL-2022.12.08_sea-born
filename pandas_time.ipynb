{
 "cells": [
  {
   "cell_type": "markdown",
   "metadata": {},
   "source": [
    "## Agenda\n",
    "- TimeSeries Data\n",
    "- 시간의 흐름에 따라 변화 하는 data"
   ]
  },
  {
   "cell_type": "code",
   "execution_count": 1,
   "metadata": {},
   "outputs": [],
   "source": [
    "import pandas as pd\n",
    "import numpy as np\n",
    "\n",
    "np.random.seed(0)"
   ]
  },
  {
   "cell_type": "markdown",
   "metadata": {},
   "source": [
    "## Time Series\n",
    "\n",
    "- \"timeseries\" 데이터는 `DatetimeIndex` 또는 `PeriodIndex`로 구성된 데이터 셋이다\n",
    "\n",
    "### to_datetime"
   ]
  },
  {
   "cell_type": "code",
   "execution_count": 2,
   "metadata": {},
   "outputs": [],
   "source": [
    "date_1  = pd.to_datetime(\"20221206\")"
   ]
  },
  {
   "cell_type": "code",
   "execution_count": 3,
   "metadata": {},
   "outputs": [
    {
     "name": "stdout",
     "output_type": "stream",
     "text": [
      "2022-12-06 00:00:00\n"
     ]
    },
    {
     "data": {
      "text/plain": [
       "pandas._libs.tslibs.timestamps.Timestamp"
      ]
     },
     "execution_count": 3,
     "metadata": {},
     "output_type": "execute_result"
    }
   ],
   "source": [
    "print(date_1)\n",
    "type(date_1)"
   ]
  },
  {
   "cell_type": "code",
   "execution_count": 4,
   "metadata": {},
   "outputs": [],
   "source": [
    "date_3 = pd.to_datetime(\"20221206\", format=\"%Y%m%d\")"
   ]
  },
  {
   "cell_type": "code",
   "execution_count": 5,
   "metadata": {},
   "outputs": [
    {
     "data": {
      "text/plain": [
       "Timestamp('2022-12-06 00:00:00')"
      ]
     },
     "execution_count": 5,
     "metadata": {},
     "output_type": "execute_result"
    }
   ],
   "source": [
    "date_3"
   ]
  },
  {
   "cell_type": "code",
   "execution_count": 6,
   "metadata": {},
   "outputs": [],
   "source": [
    "date_5 = pd.to_datetime(\"2022년12월06일\", format=\"%Y년%m월%d일\")"
   ]
  },
  {
   "cell_type": "code",
   "execution_count": 7,
   "metadata": {},
   "outputs": [
    {
     "data": {
      "text/plain": [
       "Timestamp('2022-12-06 00:00:00')"
      ]
     },
     "execution_count": 7,
     "metadata": {},
     "output_type": "execute_result"
    }
   ],
   "source": [
    "date_5"
   ]
  },
  {
   "cell_type": "markdown",
   "metadata": {},
   "source": [
    "### sample data 생성"
   ]
  },
  {
   "cell_type": "code",
   "execution_count": 8,
   "metadata": {},
   "outputs": [],
   "source": [
    "def random_series(dts):\n",
    "    res = pd.Series(np.random.randn(len(dts)), index=dts)\n",
    "    return res"
   ]
  },
  {
   "cell_type": "markdown",
   "metadata": {},
   "source": [
    "`Timestamp` 를 이용해 시간 객체 생성"
   ]
  },
  {
   "cell_type": "code",
   "execution_count": 9,
   "metadata": {},
   "outputs": [],
   "source": [
    "ts = pd.Timestamp(\"2022-01-01 00:00\")"
   ]
  },
  {
   "cell_type": "code",
   "execution_count": 10,
   "metadata": {},
   "outputs": [
    {
     "data": {
      "text/plain": [
       "Timestamp('2022-01-01 00:00:00')"
      ]
     },
     "execution_count": 10,
     "metadata": {},
     "output_type": "execute_result"
    }
   ],
   "source": [
    "ts"
   ]
  },
  {
   "cell_type": "markdown",
   "metadata": {},
   "source": [
    "## Time Series의 함수들\n",
    "- `date_range` : 시작일과 종료일 또는 시작일과 기간을 입력하면 범위 내의 인덱스 생성\n",
    "```\n",
    "s: 초\n",
    "T: 분\n",
    "H: 시간\n",
    "D: 일(day)\n",
    "B: 주말이 아닌 평일\n",
    "W: 주(일요일)\n",
    "W-MON: 주(월요일)\n",
    "M: 각 달(month)의 마지막 날\n",
    "MS: 각 달의 첫날\n",
    "BM: 주말이 아닌 평일 중에서 각 달의 마지막 날\n",
    "BMS: 주말이 아닌 평일 중에서 각 달의 첫날\n",
    "WOM-2THU: 각 달의 두번째 목요일\n",
    "Q-JAN: 각 분기의 첫달의 마지막 날\n",
    "Q-DEC: 각 분기의 마지막 달의 마지막 날\n",
    "AS-JAN: 매년 초 1월 1일\n",
    "```"
   ]
  },
  {
   "cell_type": "code",
   "execution_count": 11,
   "metadata": {},
   "outputs": [
    {
     "name": "stdout",
     "output_type": "stream",
     "text": [
      "DatetimeIndex(['2023-01-02', '2023-01-03', '2023-01-04', '2023-01-05',\n",
      "               '2023-01-06', '2023-01-09', '2023-01-10', '2023-01-11',\n",
      "               '2023-01-12', '2023-01-13',\n",
      "               ...\n",
      "               '2023-12-18', '2023-12-19', '2023-12-20', '2023-12-21',\n",
      "               '2023-12-22', '2023-12-25', '2023-12-26', '2023-12-27',\n",
      "               '2023-12-28', '2023-12-29'],\n",
      "              dtype='datetime64[ns]', length=260, freq='B')\n"
     ]
    }
   ],
   "source": [
    "# 1년동안의 평일 생성\n",
    "dts = pd.date_range(\"2023-01-01\", \"2023-12-31\", freq=\"B\")\n",
    "print(dts)"
   ]
  },
  {
   "cell_type": "code",
   "execution_count": 12,
   "metadata": {},
   "outputs": [
    {
     "data": {
      "text/plain": [
       "DatetimeIndex(['2023-01-01 00:00:00', '2023-01-01 00:01:00',\n",
       "               '2023-01-01 00:02:00', '2023-01-01 00:03:00',\n",
       "               '2023-01-01 00:04:00', '2023-01-01 00:05:00',\n",
       "               '2023-01-01 00:06:00', '2023-01-01 00:07:00',\n",
       "               '2023-01-01 00:08:00', '2023-01-01 00:09:00',\n",
       "               ...\n",
       "               '2023-12-30 23:51:00', '2023-12-30 23:52:00',\n",
       "               '2023-12-30 23:53:00', '2023-12-30 23:54:00',\n",
       "               '2023-12-30 23:55:00', '2023-12-30 23:56:00',\n",
       "               '2023-12-30 23:57:00', '2023-12-30 23:58:00',\n",
       "               '2023-12-30 23:59:00', '2023-12-31 00:00:00'],\n",
       "              dtype='datetime64[ns]', length=524161, freq='T')"
      ]
     },
     "execution_count": 12,
     "metadata": {},
     "output_type": "execute_result"
    }
   ],
   "source": [
    "pd.date_range(\"2023-01-01\", \"2023-12-31\", freq=\"T\")"
   ]
  },
  {
   "cell_type": "markdown",
   "metadata": {},
   "source": [
    "## 시계열 데이터에서의 indexing 과 slicing"
   ]
  },
  {
   "cell_type": "code",
   "execution_count": 13,
   "metadata": {},
   "outputs": [],
   "source": [
    "df_dts = random_series(dts)"
   ]
  },
  {
   "cell_type": "markdown",
   "metadata": {},
   "source": [
    "- indexing"
   ]
  },
  {
   "cell_type": "code",
   "execution_count": 14,
   "metadata": {},
   "outputs": [
    {
     "data": {
      "text/plain": [
       "1.764052345967664"
      ]
     },
     "execution_count": 14,
     "metadata": {},
     "output_type": "execute_result"
    }
   ],
   "source": [
    "df_dts[\"2023-01-02\"]"
   ]
  },
  {
   "cell_type": "markdown",
   "metadata": {},
   "source": [
    "- slicing"
   ]
  },
  {
   "cell_type": "code",
   "execution_count": 15,
   "metadata": {},
   "outputs": [
    {
     "data": {
      "text/plain": [
       "2023-01-02    1.764052\n",
       "2023-01-03    0.400157\n",
       "2023-01-04    0.978738\n",
       "2023-01-05    2.240893\n",
       "2023-01-06    1.867558\n",
       "2023-01-09   -0.977278\n",
       "2023-01-10    0.950088\n",
       "2023-01-11   -0.151357\n",
       "2023-01-12   -0.103219\n",
       "2023-01-13    0.410599\n",
       "2023-01-16    0.144044\n",
       "2023-01-17    1.454274\n",
       "2023-01-18    0.761038\n",
       "2023-01-19    0.121675\n",
       "2023-01-20    0.443863\n",
       "2023-01-23    0.333674\n",
       "2023-01-24    1.494079\n",
       "2023-01-25   -0.205158\n",
       "2023-01-26    0.313068\n",
       "2023-01-27   -0.854096\n",
       "2023-01-30   -2.552990\n",
       "2023-01-31    0.653619\n",
       "2023-02-01    0.864436\n",
       "2023-02-02   -0.742165\n",
       "2023-02-03    2.269755\n",
       "2023-02-06   -1.454366\n",
       "2023-02-07    0.045759\n",
       "2023-02-08   -0.187184\n",
       "2023-02-09    1.532779\n",
       "2023-02-10    1.469359\n",
       "2023-02-13    0.154947\n",
       "2023-02-14    0.378163\n",
       "2023-02-15   -0.887786\n",
       "2023-02-16   -1.980796\n",
       "2023-02-17   -0.347912\n",
       "2023-02-20    0.156349\n",
       "2023-02-21    1.230291\n",
       "2023-02-22    1.202380\n",
       "2023-02-23   -0.387327\n",
       "2023-02-24   -0.302303\n",
       "2023-02-27   -1.048553\n",
       "2023-02-28   -1.420018\n",
       "2023-03-01   -1.706270\n",
       "2023-03-02    1.950775\n",
       "2023-03-03   -0.509652\n",
       "2023-03-06   -0.438074\n",
       "2023-03-07   -1.252795\n",
       "2023-03-08    0.777490\n",
       "2023-03-09   -1.613898\n",
       "2023-03-10   -0.212740\n",
       "2023-03-13   -0.895467\n",
       "2023-03-14    0.386902\n",
       "2023-03-15   -0.510805\n",
       "2023-03-16   -1.180632\n",
       "2023-03-17   -0.028182\n",
       "2023-03-20    0.428332\n",
       "Freq: B, dtype: float64"
      ]
     },
     "execution_count": 15,
     "metadata": {},
     "output_type": "execute_result"
    }
   ],
   "source": [
    "df_dts[\"2023-01-02\": \"2023-03-20\"]"
   ]
  },
  {
   "cell_type": "code",
   "execution_count": 16,
   "metadata": {},
   "outputs": [
    {
     "data": {
      "text/plain": [
       "1.764052345967664"
      ]
     },
     "execution_count": 16,
     "metadata": {},
     "output_type": "execute_result"
    }
   ],
   "source": [
    "df_dts.loc[\"2023-01-02\"]"
   ]
  },
  {
   "cell_type": "markdown",
   "metadata": {},
   "source": [
    "- 달별 선택"
   ]
  },
  {
   "cell_type": "code",
   "execution_count": 17,
   "metadata": {},
   "outputs": [
    {
     "data": {
      "text/plain": [
       "2023-02-01    0.864436\n",
       "2023-02-02   -0.742165\n",
       "2023-02-03    2.269755\n",
       "2023-02-06   -1.454366\n",
       "2023-02-07    0.045759\n",
       "2023-02-08   -0.187184\n",
       "2023-02-09    1.532779\n",
       "2023-02-10    1.469359\n",
       "2023-02-13    0.154947\n",
       "2023-02-14    0.378163\n",
       "2023-02-15   -0.887786\n",
       "2023-02-16   -1.980796\n",
       "2023-02-17   -0.347912\n",
       "2023-02-20    0.156349\n",
       "2023-02-21    1.230291\n",
       "2023-02-22    1.202380\n",
       "2023-02-23   -0.387327\n",
       "2023-02-24   -0.302303\n",
       "2023-02-27   -1.048553\n",
       "2023-02-28   -1.420018\n",
       "Freq: B, dtype: float64"
      ]
     },
     "execution_count": 17,
     "metadata": {},
     "output_type": "execute_result"
    }
   ],
   "source": [
    "df_dts.loc[\"2023-02\"]"
   ]
  },
  {
   "cell_type": "markdown",
   "metadata": {},
   "source": [
    "- 월별 선택"
   ]
  },
  {
   "cell_type": "code",
   "execution_count": 18,
   "metadata": {},
   "outputs": [
    {
     "data": {
      "text/plain": [
       "2023-01-02    1.764052\n",
       "2023-01-03    0.400157\n",
       "2023-01-04    0.978738\n",
       "2023-01-05    2.240893\n",
       "2023-01-06    1.867558\n",
       "                ...   \n",
       "2023-12-25    0.694749\n",
       "2023-12-26   -0.725597\n",
       "2023-12-27   -1.383364\n",
       "2023-12-28   -1.582938\n",
       "2023-12-29    0.610379\n",
       "Freq: B, Length: 260, dtype: float64"
      ]
     },
     "execution_count": 18,
     "metadata": {},
     "output_type": "execute_result"
    }
   ],
   "source": [
    "df_dts.loc[\"2023\"]"
   ]
  },
  {
   "cell_type": "markdown",
   "metadata": {},
   "source": [
    "## 시계열 데이터의 이동 \n",
    "- `shift()` 를 이용해 이동할 수 있다. \n",
    "- [참고](https://towardsdatascience.com/all-the-pandas-shift-you-should-know-for-data-analysis-791c1692b5e)"
   ]
  },
  {
   "cell_type": "code",
   "execution_count": 21,
   "metadata": {},
   "outputs": [
    {
     "data": {
      "text/plain": [
       "2023-01-02    1.764052\n",
       "2023-01-03    0.400157\n",
       "2023-01-05    2.240893\n",
       "2023-01-30   -2.552990\n",
       "2023-01-31    0.653619\n",
       "dtype: float64"
      ]
     },
     "execution_count": 21,
     "metadata": {},
     "output_type": "execute_result"
    }
   ],
   "source": [
    "df_dts[\"2023-01\"].iloc[[0,1,3, -2, -1]]"
   ]
  },
  {
   "cell_type": "code",
   "execution_count": 24,
   "metadata": {},
   "outputs": [
    {
     "data": {
      "text/plain": [
       "2023-01-02    0.400157\n",
       "2023-01-03    0.978738\n",
       "2023-01-04    2.240893\n",
       "2023-01-05    1.867558\n",
       "2023-01-06   -0.977278\n",
       "                ...   \n",
       "2023-12-25   -0.725597\n",
       "2023-12-26   -1.383364\n",
       "2023-12-27   -1.582938\n",
       "2023-12-28    0.610379\n",
       "2023-12-29         NaN\n",
       "Freq: B, Length: 260, dtype: float64"
      ]
     },
     "execution_count": 24,
     "metadata": {},
     "output_type": "execute_result"
    }
   ],
   "source": [
    "df_dts.shift(-1)"
   ]
  },
  {
   "cell_type": "code",
   "execution_count": 25,
   "metadata": {},
   "outputs": [
    {
     "data": {
      "text/plain": [
       "2023-01-02         NaN\n",
       "2023-01-03    1.764052\n",
       "2023-01-04    0.400157\n",
       "2023-01-05    0.978738\n",
       "2023-01-06    2.240893\n",
       "                ...   \n",
       "2023-12-25    0.691539\n",
       "2023-12-26    0.694749\n",
       "2023-12-27   -0.725597\n",
       "2023-12-28   -1.383364\n",
       "2023-12-29   -1.582938\n",
       "Freq: B, Length: 260, dtype: float64"
      ]
     },
     "execution_count": 25,
     "metadata": {},
     "output_type": "execute_result"
    }
   ],
   "source": [
    "df_dts.shift(1)"
   ]
  },
  {
   "cell_type": "markdown",
   "metadata": {},
   "source": [
    "## 간격 재조정\n",
    "- `resample` : 시간 간격을 재조정하는 resampling 가능"
   ]
  },
  {
   "cell_type": "code",
   "execution_count": 26,
   "metadata": {},
   "outputs": [],
   "source": [
    "dts_1 = pd.date_range(\"2022-01-01\", \"2022-03-31\", freq=\"D\")"
   ]
  },
  {
   "cell_type": "code",
   "execution_count": 27,
   "metadata": {},
   "outputs": [],
   "source": [
    "ts_1 = random_series(dts_1)"
   ]
  },
  {
   "cell_type": "code",
   "execution_count": 29,
   "metadata": {},
   "outputs": [
    {
     "data": {
      "text/plain": [
       "2022-01-31   -0.005615\n",
       "2022-02-28   -0.055979\n",
       "2022-03-31   -0.190673\n",
       "Freq: M, dtype: float64"
      ]
     },
     "execution_count": 29,
     "metadata": {},
     "output_type": "execute_result"
    }
   ],
   "source": [
    "ts_1.resample(\"M\").mean()"
   ]
  },
  {
   "cell_type": "code",
   "execution_count": 28,
   "metadata": {},
   "outputs": [
    {
     "data": {
      "text/html": [
       "<div>\n",
       "<style scoped>\n",
       "    .dataframe tbody tr th:only-of-type {\n",
       "        vertical-align: middle;\n",
       "    }\n",
       "\n",
       "    .dataframe tbody tr th {\n",
       "        vertical-align: top;\n",
       "    }\n",
       "\n",
       "    .dataframe thead th {\n",
       "        text-align: right;\n",
       "    }\n",
       "</style>\n",
       "<table border=\"1\" class=\"dataframe\">\n",
       "  <thead>\n",
       "    <tr style=\"text-align: right;\">\n",
       "      <th></th>\n",
       "      <th>mean</th>\n",
       "      <th>std</th>\n",
       "    </tr>\n",
       "  </thead>\n",
       "  <tbody>\n",
       "    <tr>\n",
       "      <th>2022-01-31</th>\n",
       "      <td>-0.005615</td>\n",
       "      <td>1.106290</td>\n",
       "    </tr>\n",
       "    <tr>\n",
       "      <th>2022-02-28</th>\n",
       "      <td>-0.055979</td>\n",
       "      <td>0.891320</td>\n",
       "    </tr>\n",
       "    <tr>\n",
       "      <th>2022-03-31</th>\n",
       "      <td>-0.190673</td>\n",
       "      <td>1.016102</td>\n",
       "    </tr>\n",
       "  </tbody>\n",
       "</table>\n",
       "</div>"
      ],
      "text/plain": [
       "                mean       std\n",
       "2022-01-31 -0.005615  1.106290\n",
       "2022-02-28 -0.055979  0.891320\n",
       "2022-03-31 -0.190673  1.016102"
      ]
     },
     "execution_count": 28,
     "metadata": {},
     "output_type": "execute_result"
    }
   ],
   "source": [
    "ts_1.resample(\"M\").agg([\"mean\", \"std\"])"
   ]
  },
  {
   "cell_type": "markdown",
   "metadata": {},
   "source": [
    "## dt접근자\n",
    "- datetime 자료형 시리즈에는 dt 접근자존재\n",
    "- datetime 자료형이 가진 몇가지 유용한 속성과 메서드를 사용할"
   ]
  },
  {
   "cell_type": "code",
   "execution_count": 30,
   "metadata": {},
   "outputs": [
    {
     "data": {
      "text/plain": [
       "DatetimeIndex(['2022-01-01', '2022-01-02', '2022-01-03', '2022-01-04',\n",
       "               '2022-01-05', '2022-01-06', '2022-01-07', '2022-01-08',\n",
       "               '2022-01-09', '2022-01-10', '2022-01-11', '2022-01-12',\n",
       "               '2022-01-13', '2022-01-14', '2022-01-15', '2022-01-16',\n",
       "               '2022-01-17', '2022-01-18', '2022-01-19', '2022-01-20',\n",
       "               '2022-01-21', '2022-01-22', '2022-01-23', '2022-01-24',\n",
       "               '2022-01-25', '2022-01-26', '2022-01-27', '2022-01-28',\n",
       "               '2022-01-29', '2022-01-30', '2022-01-31', '2022-02-01',\n",
       "               '2022-02-02', '2022-02-03', '2022-02-04', '2022-02-05',\n",
       "               '2022-02-06', '2022-02-07', '2022-02-08', '2022-02-09',\n",
       "               '2022-02-10', '2022-02-11', '2022-02-12', '2022-02-13',\n",
       "               '2022-02-14', '2022-02-15', '2022-02-16', '2022-02-17',\n",
       "               '2022-02-18', '2022-02-19', '2022-02-20', '2022-02-21',\n",
       "               '2022-02-22', '2022-02-23', '2022-02-24', '2022-02-25',\n",
       "               '2022-02-26', '2022-02-27', '2022-02-28', '2022-03-01',\n",
       "               '2022-03-02', '2022-03-03', '2022-03-04', '2022-03-05',\n",
       "               '2022-03-06', '2022-03-07', '2022-03-08', '2022-03-09',\n",
       "               '2022-03-10', '2022-03-11', '2022-03-12', '2022-03-13',\n",
       "               '2022-03-14', '2022-03-15', '2022-03-16', '2022-03-17',\n",
       "               '2022-03-18', '2022-03-19', '2022-03-20', '2022-03-21',\n",
       "               '2022-03-22', '2022-03-23', '2022-03-24', '2022-03-25',\n",
       "               '2022-03-26', '2022-03-27', '2022-03-28', '2022-03-29',\n",
       "               '2022-03-30', '2022-03-31'],\n",
       "              dtype='datetime64[ns]', freq='D')"
      ]
     },
     "execution_count": 30,
     "metadata": {},
     "output_type": "execute_result"
    }
   ],
   "source": [
    "dts_1"
   ]
  },
  {
   "cell_type": "code",
   "execution_count": 31,
   "metadata": {},
   "outputs": [
    {
     "data": {
      "text/plain": [
       "Index(['오늘은 2022년 01월 01일입니다.', '오늘은 2022년 01월 02일입니다.',\n",
       "       '오늘은 2022년 01월 03일입니다.', '오늘은 2022년 01월 04일입니다.',\n",
       "       '오늘은 2022년 01월 05일입니다.', '오늘은 2022년 01월 06일입니다.',\n",
       "       '오늘은 2022년 01월 07일입니다.', '오늘은 2022년 01월 08일입니다.',\n",
       "       '오늘은 2022년 01월 09일입니다.', '오늘은 2022년 01월 10일입니다.',\n",
       "       '오늘은 2022년 01월 11일입니다.', '오늘은 2022년 01월 12일입니다.',\n",
       "       '오늘은 2022년 01월 13일입니다.', '오늘은 2022년 01월 14일입니다.',\n",
       "       '오늘은 2022년 01월 15일입니다.', '오늘은 2022년 01월 16일입니다.',\n",
       "       '오늘은 2022년 01월 17일입니다.', '오늘은 2022년 01월 18일입니다.',\n",
       "       '오늘은 2022년 01월 19일입니다.', '오늘은 2022년 01월 20일입니다.',\n",
       "       '오늘은 2022년 01월 21일입니다.', '오늘은 2022년 01월 22일입니다.',\n",
       "       '오늘은 2022년 01월 23일입니다.', '오늘은 2022년 01월 24일입니다.',\n",
       "       '오늘은 2022년 01월 25일입니다.', '오늘은 2022년 01월 26일입니다.',\n",
       "       '오늘은 2022년 01월 27일입니다.', '오늘은 2022년 01월 28일입니다.',\n",
       "       '오늘은 2022년 01월 29일입니다.', '오늘은 2022년 01월 30일입니다.',\n",
       "       '오늘은 2022년 01월 31일입니다.', '오늘은 2022년 02월 01일입니다.',\n",
       "       '오늘은 2022년 02월 02일입니다.', '오늘은 2022년 02월 03일입니다.',\n",
       "       '오늘은 2022년 02월 04일입니다.', '오늘은 2022년 02월 05일입니다.',\n",
       "       '오늘은 2022년 02월 06일입니다.', '오늘은 2022년 02월 07일입니다.',\n",
       "       '오늘은 2022년 02월 08일입니다.', '오늘은 2022년 02월 09일입니다.',\n",
       "       '오늘은 2022년 02월 10일입니다.', '오늘은 2022년 02월 11일입니다.',\n",
       "       '오늘은 2022년 02월 12일입니다.', '오늘은 2022년 02월 13일입니다.',\n",
       "       '오늘은 2022년 02월 14일입니다.', '오늘은 2022년 02월 15일입니다.',\n",
       "       '오늘은 2022년 02월 16일입니다.', '오늘은 2022년 02월 17일입니다.',\n",
       "       '오늘은 2022년 02월 18일입니다.', '오늘은 2022년 02월 19일입니다.',\n",
       "       '오늘은 2022년 02월 20일입니다.', '오늘은 2022년 02월 21일입니다.',\n",
       "       '오늘은 2022년 02월 22일입니다.', '오늘은 2022년 02월 23일입니다.',\n",
       "       '오늘은 2022년 02월 24일입니다.', '오늘은 2022년 02월 25일입니다.',\n",
       "       '오늘은 2022년 02월 26일입니다.', '오늘은 2022년 02월 27일입니다.',\n",
       "       '오늘은 2022년 02월 28일입니다.', '오늘은 2022년 03월 01일입니다.',\n",
       "       '오늘은 2022년 03월 02일입니다.', '오늘은 2022년 03월 03일입니다.',\n",
       "       '오늘은 2022년 03월 04일입니다.', '오늘은 2022년 03월 05일입니다.',\n",
       "       '오늘은 2022년 03월 06일입니다.', '오늘은 2022년 03월 07일입니다.',\n",
       "       '오늘은 2022년 03월 08일입니다.', '오늘은 2022년 03월 09일입니다.',\n",
       "       '오늘은 2022년 03월 10일입니다.', '오늘은 2022년 03월 11일입니다.',\n",
       "       '오늘은 2022년 03월 12일입니다.', '오늘은 2022년 03월 13일입니다.',\n",
       "       '오늘은 2022년 03월 14일입니다.', '오늘은 2022년 03월 15일입니다.',\n",
       "       '오늘은 2022년 03월 16일입니다.', '오늘은 2022년 03월 17일입니다.',\n",
       "       '오늘은 2022년 03월 18일입니다.', '오늘은 2022년 03월 19일입니다.',\n",
       "       '오늘은 2022년 03월 20일입니다.', '오늘은 2022년 03월 21일입니다.',\n",
       "       '오늘은 2022년 03월 22일입니다.', '오늘은 2022년 03월 23일입니다.',\n",
       "       '오늘은 2022년 03월 24일입니다.', '오늘은 2022년 03월 25일입니다.',\n",
       "       '오늘은 2022년 03월 26일입니다.', '오늘은 2022년 03월 27일입니다.',\n",
       "       '오늘은 2022년 03월 28일입니다.', '오늘은 2022년 03월 29일입니다.',\n",
       "       '오늘은 2022년 03월 30일입니다.', '오늘은 2022년 03월 31일입니다.'],\n",
       "      dtype='object')"
      ]
     },
     "execution_count": 31,
     "metadata": {},
     "output_type": "execute_result"
    }
   ],
   "source": [
    "dts_1.strftime(\"오늘은 %Y년 %m월 %d일입니다.\")"
   ]
  },
  {
   "cell_type": "code",
   "execution_count": null,
   "metadata": {},
   "outputs": [],
   "source": []
  }
 ],
 "metadata": {
  "kernelspec": {
   "display_name": "Python 3.9.13 ('pandas': venv)",
   "language": "python",
   "name": "python3"
  },
  "language_info": {
   "codemirror_mode": {
    "name": "ipython",
    "version": 3
   },
   "file_extension": ".py",
   "mimetype": "text/x-python",
   "name": "python",
   "nbconvert_exporter": "python",
   "pygments_lexer": "ipython3",
   "version": "3.9.13"
  },
  "orig_nbformat": 4,
  "vscode": {
   "interpreter": {
    "hash": "dc712675971c4f971cb330a29796bfbfb14d73b8977cf7f366b6356ba4482708"
   }
  }
 },
 "nbformat": 4,
 "nbformat_minor": 2
}
